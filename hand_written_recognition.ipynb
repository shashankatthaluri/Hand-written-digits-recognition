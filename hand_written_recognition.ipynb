{
  "nbformat": 4,
  "nbformat_minor": 0,
  "metadata": {
    "colab": {
      "provenance": []
    },
    "kernelspec": {
      "name": "python3",
      "display_name": "Python 3"
    },
    "language_info": {
      "name": "python"
    }
  },
  "cells": [
    {
      "cell_type": "code",
      "execution_count": 7,
      "metadata": {
        "id": "IIDkbGHV3cEt"
      },
      "outputs": [],
      "source": [
        "import os\n",
        "import cv2\n",
        "import numpy as np\n",
        "import tensorflow as tf\n",
        "import matplotlib.pyplot as plt"
      ]
    },
    {
      "cell_type": "code",
      "source": [
        "# Decide if to load an existing model or to train a new one\n",
        "train_new_model = True"
      ],
      "metadata": {
        "id": "0klk5SP-3iuz"
      },
      "execution_count": 8,
      "outputs": []
    },
    {
      "cell_type": "code",
      "source": [
        "if train_new_model:\n",
        "    # Loading the MNIST data set with samples and splitting it\n",
        "    mnist = tf.keras.datasets.mnist\n",
        "    (X_train, y_train), (X_test, y_test) = mnist.load_data()\n",
        "\n",
        "    # Normalizing the data (making length = 1)\n",
        "    X_train = tf.keras.utils.normalize(X_train, axis=1)\n",
        "    X_test = tf.keras.utils.normalize(X_test, axis=1)\n",
        "\n",
        "    # Create a neural network model\n",
        "    # Add one flattened input layer for the pixels\n",
        "    # Add two dense hidden layers\n",
        "    # Add one dense output layer for the 10 digits\n",
        "    model = tf.keras.models.Sequential()\n",
        "    model.add(tf.keras.layers.Flatten())\n",
        "    model.add(tf.keras.layers.Dense(units=128, activation=tf.nn.relu))\n",
        "    model.add(tf.keras.layers.Dense(units=128, activation=tf.nn.relu))\n",
        "    model.add(tf.keras.layers.Dense(units=10, activation=tf.nn.softmax))\n",
        "\n",
        "    # Compiling and optimizing model\n",
        "    model.compile(optimizer='adam', loss='sparse_categorical_crossentropy', metrics=['accuracy'])\n",
        "\n",
        "    # Training the model\n",
        "    model.fit(X_train, y_train, epochs=3)\n",
        "\n",
        "    # Evaluating the model\n",
        "    val_loss, val_acc = model.evaluate(X_test, y_test)\n",
        "    print(val_loss)\n",
        "    print(val_acc)\n",
        "\n",
        "    # Saving the model\n",
        "    model.save('handwritten_digits.model')\n",
        "else:\n",
        "    # Load the model\n",
        "    model = tf.keras.models.load_model('handwritten_digits.model')\n",
        "\n",
        "\n",
        "# Load custom images and predict them\n",
        "image_number = 1\n",
        "while os.path.isfile('digits/digit{}.png'.format(image_number)):\n",
        "    try:\n",
        "        img = cv2.imread('digits/digit{}.png'.format(image_number))[:,:,0]\n",
        "        img = np.invert(np.array([img]))\n",
        "        prediction = model.predict(img)\n",
        "        print(\"The number is probably a {}\".format(np.argmax(prediction)))\n",
        "        plt.imshow(img[0], cmap=plt.cm.binary)\n",
        "        plt.show()\n",
        "        image_number += 1\n",
        "    except:\n",
        "        print(\"Error reading image! Proceeding with next image...\")\n",
        "        image_number += 1"
      ],
      "metadata": {
        "colab": {
          "base_uri": "https://localhost:8080/"
        },
        "id": "sCl9fkxJ4G9_",
        "outputId": "184103d1-c8ca-4ee0-b96e-4265d644a7ff"
      },
      "execution_count": 9,
      "outputs": [
        {
          "output_type": "stream",
          "name": "stdout",
          "text": [
            "Epoch 1/3\n",
            "1875/1875 [==============================] - 6s 3ms/step - loss: 0.2634 - accuracy: 0.9221\n",
            "Epoch 2/3\n",
            "1875/1875 [==============================] - 6s 3ms/step - loss: 0.1083 - accuracy: 0.9666\n",
            "Epoch 3/3\n",
            "1875/1875 [==============================] - 6s 3ms/step - loss: 0.0726 - accuracy: 0.9767\n",
            "313/313 [==============================] - 1s 2ms/step - loss: 0.0860 - accuracy: 0.9721\n",
            "0.08595941215753555\n",
            "0.972100019454956\n"
          ]
        }
      ]
    },
    {
      "cell_type": "code",
      "source": [],
      "metadata": {
        "id": "PF3zRjGX4LWl"
      },
      "execution_count": 9,
      "outputs": []
    }
  ]
}